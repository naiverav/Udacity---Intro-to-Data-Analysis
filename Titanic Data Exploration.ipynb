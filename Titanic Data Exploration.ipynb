{
 "cells": [
  {
   "cell_type": "markdown",
   "metadata": {
    "collapsed": true
   },
   "source": [
    "# Project: Investigate a Dataset\n",
    "## Titanic Data\n",
    "\n",
    "### Introduction \n",
    "This dataset contains demographics and passenger information from 891 of the 2224 passengers and crew on board the Titanic. You can view a description of this dataset on the Kaggle website (https://www.kaggle.com/c/titanic), where the data was obtained.\n",
    "\n",
    "\n",
    "### Questions\n",
    "In this analysis, I would like to explore the following questions.\n",
    "\n",
    "1. Was age a factor in determining the chances of survival?\n",
    "\n",
    "2. Did women had a better survival rate than men?\n",
    "\n",
    "3. How was children's survival rate as compared to men or women?\n",
    "\n",
    "4. Was Socio-economic status or paasenger class a factor in determining the survival rate?"
   ]
  },
  {
   "cell_type": "markdown",
   "metadata": {
    "collapsed": true
   },
   "source": [
    "### Data Dictionary\n",
    "\n",
    " - survival: Survival (0 = No, 1 = Yes)\n",
    " - pclass: Ticket class(1 = 1st, 2 = 2nd, 3 = 3rd)\n",
    " - sex: Sex\n",
    " - Age: Age in years\n",
    " - sibsp: Number of siblings / spouses aboard the Titanic\n",
    " - parch: Number of parents / children aboard the Titanic\n",
    " - ticket: Ticket number\n",
    " - fare:Passenger fare\n",
    " - cabin:Cabin number\n",
    " - embarked:Port of Embarkation(C = Cherbourg, Q = Queenstown, S = Southampton)\n",
    "\n",
    "**pclass**: A proxy for socio-economic status (SES)\n",
    " -1st = Upper\n",
    " -2nd = Middle\n",
    " -3rd = Lower\n",
    "\n",
    "**Age**: Age is fractional if less than 1. If the age is estimated, it is in the form of xx.5\n",
    "\n",
    "**sibsp**: The dataset defines family relations in this way...\n",
    " - Sibling = brother, sister, stepbrother, stepsister\n",
    " - Spouse = husband, wife (mistresses and fiancés were ignored)\n",
    "\n",
    "**parch**: The dataset defines family relations in this way...\n",
    "-  Parent = mother, father\n",
    "-  Child = daughter, son, stepdaughter, stepson\n",
    "-  Some children travelled only with a nanny, therefore parch=0 for them"
   ]
  },
  {
   "cell_type": "code",
   "execution_count": 1,
   "metadata": {},
   "outputs": [
    {
     "data": {
      "text/plain": [
       "(891, 12)"
      ]
     },
     "execution_count": 1,
     "metadata": {},
     "output_type": "execute_result"
    }
   ],
   "source": [
    "# importing  required libraries\n",
    "\n",
    "# Render plots inline\n",
    "%matplotlib inline\n",
    "\n",
    "import matplotlib.pyplot as plt\n",
    "import pylab as pl\n",
    "import numpy as np\n",
    "import pandas as pd\n",
    "import seaborn as sns\n",
    "from scipy import stats\n",
    "\n",
    "\n",
    "# import data from csv file\n",
    "titanic_df = pd.read_csv('titanic_data.csv')\n",
    "# Checking the number of rows(observations) and colmumns(variables)\n",
    "titanic_df.shape\n"
   ]
  },
  {
   "cell_type": "code",
   "execution_count": 2,
   "metadata": {},
   "outputs": [
    {
     "data": {
      "text/html": [
       "<div>\n",
       "<table border=\"1\" class=\"dataframe\">\n",
       "  <thead>\n",
       "    <tr style=\"text-align: right;\">\n",
       "      <th></th>\n",
       "      <th>PassengerId</th>\n",
       "      <th>Survived</th>\n",
       "      <th>Pclass</th>\n",
       "      <th>Name</th>\n",
       "      <th>Sex</th>\n",
       "      <th>Age</th>\n",
       "      <th>SibSp</th>\n",
       "      <th>Parch</th>\n",
       "      <th>Ticket</th>\n",
       "      <th>Fare</th>\n",
       "      <th>Cabin</th>\n",
       "      <th>Embarked</th>\n",
       "    </tr>\n",
       "  </thead>\n",
       "  <tbody>\n",
       "    <tr>\n",
       "      <th>0</th>\n",
       "      <td>1</td>\n",
       "      <td>0</td>\n",
       "      <td>3</td>\n",
       "      <td>Braund, Mr. Owen Harris</td>\n",
       "      <td>male</td>\n",
       "      <td>22.0</td>\n",
       "      <td>1</td>\n",
       "      <td>0</td>\n",
       "      <td>A/5 21171</td>\n",
       "      <td>7.2500</td>\n",
       "      <td>NaN</td>\n",
       "      <td>S</td>\n",
       "    </tr>\n",
       "    <tr>\n",
       "      <th>1</th>\n",
       "      <td>2</td>\n",
       "      <td>1</td>\n",
       "      <td>1</td>\n",
       "      <td>Cumings, Mrs. John Bradley (Florence Briggs Th...</td>\n",
       "      <td>female</td>\n",
       "      <td>38.0</td>\n",
       "      <td>1</td>\n",
       "      <td>0</td>\n",
       "      <td>PC 17599</td>\n",
       "      <td>71.2833</td>\n",
       "      <td>C85</td>\n",
       "      <td>C</td>\n",
       "    </tr>\n",
       "    <tr>\n",
       "      <th>2</th>\n",
       "      <td>3</td>\n",
       "      <td>1</td>\n",
       "      <td>3</td>\n",
       "      <td>Heikkinen, Miss. Laina</td>\n",
       "      <td>female</td>\n",
       "      <td>26.0</td>\n",
       "      <td>0</td>\n",
       "      <td>0</td>\n",
       "      <td>STON/O2. 3101282</td>\n",
       "      <td>7.9250</td>\n",
       "      <td>NaN</td>\n",
       "      <td>S</td>\n",
       "    </tr>\n",
       "    <tr>\n",
       "      <th>3</th>\n",
       "      <td>4</td>\n",
       "      <td>1</td>\n",
       "      <td>1</td>\n",
       "      <td>Futrelle, Mrs. Jacques Heath (Lily May Peel)</td>\n",
       "      <td>female</td>\n",
       "      <td>35.0</td>\n",
       "      <td>1</td>\n",
       "      <td>0</td>\n",
       "      <td>113803</td>\n",
       "      <td>53.1000</td>\n",
       "      <td>C123</td>\n",
       "      <td>S</td>\n",
       "    </tr>\n",
       "    <tr>\n",
       "      <th>4</th>\n",
       "      <td>5</td>\n",
       "      <td>0</td>\n",
       "      <td>3</td>\n",
       "      <td>Allen, Mr. William Henry</td>\n",
       "      <td>male</td>\n",
       "      <td>35.0</td>\n",
       "      <td>0</td>\n",
       "      <td>0</td>\n",
       "      <td>373450</td>\n",
       "      <td>8.0500</td>\n",
       "      <td>NaN</td>\n",
       "      <td>S</td>\n",
       "    </tr>\n",
       "    <tr>\n",
       "      <th>5</th>\n",
       "      <td>6</td>\n",
       "      <td>0</td>\n",
       "      <td>3</td>\n",
       "      <td>Moran, Mr. James</td>\n",
       "      <td>male</td>\n",
       "      <td>NaN</td>\n",
       "      <td>0</td>\n",
       "      <td>0</td>\n",
       "      <td>330877</td>\n",
       "      <td>8.4583</td>\n",
       "      <td>NaN</td>\n",
       "      <td>Q</td>\n",
       "    </tr>\n",
       "    <tr>\n",
       "      <th>6</th>\n",
       "      <td>7</td>\n",
       "      <td>0</td>\n",
       "      <td>1</td>\n",
       "      <td>McCarthy, Mr. Timothy J</td>\n",
       "      <td>male</td>\n",
       "      <td>54.0</td>\n",
       "      <td>0</td>\n",
       "      <td>0</td>\n",
       "      <td>17463</td>\n",
       "      <td>51.8625</td>\n",
       "      <td>E46</td>\n",
       "      <td>S</td>\n",
       "    </tr>\n",
       "    <tr>\n",
       "      <th>7</th>\n",
       "      <td>8</td>\n",
       "      <td>0</td>\n",
       "      <td>3</td>\n",
       "      <td>Palsson, Master. Gosta Leonard</td>\n",
       "      <td>male</td>\n",
       "      <td>2.0</td>\n",
       "      <td>3</td>\n",
       "      <td>1</td>\n",
       "      <td>349909</td>\n",
       "      <td>21.0750</td>\n",
       "      <td>NaN</td>\n",
       "      <td>S</td>\n",
       "    </tr>\n",
       "    <tr>\n",
       "      <th>8</th>\n",
       "      <td>9</td>\n",
       "      <td>1</td>\n",
       "      <td>3</td>\n",
       "      <td>Johnson, Mrs. Oscar W (Elisabeth Vilhelmina Berg)</td>\n",
       "      <td>female</td>\n",
       "      <td>27.0</td>\n",
       "      <td>0</td>\n",
       "      <td>2</td>\n",
       "      <td>347742</td>\n",
       "      <td>11.1333</td>\n",
       "      <td>NaN</td>\n",
       "      <td>S</td>\n",
       "    </tr>\n",
       "    <tr>\n",
       "      <th>9</th>\n",
       "      <td>10</td>\n",
       "      <td>1</td>\n",
       "      <td>2</td>\n",
       "      <td>Nasser, Mrs. Nicholas (Adele Achem)</td>\n",
       "      <td>female</td>\n",
       "      <td>14.0</td>\n",
       "      <td>1</td>\n",
       "      <td>0</td>\n",
       "      <td>237736</td>\n",
       "      <td>30.0708</td>\n",
       "      <td>NaN</td>\n",
       "      <td>C</td>\n",
       "    </tr>\n",
       "  </tbody>\n",
       "</table>\n",
       "</div>"
      ],
      "text/plain": [
       "   PassengerId  Survived  Pclass  \\\n",
       "0            1         0       3   \n",
       "1            2         1       1   \n",
       "2            3         1       3   \n",
       "3            4         1       1   \n",
       "4            5         0       3   \n",
       "5            6         0       3   \n",
       "6            7         0       1   \n",
       "7            8         0       3   \n",
       "8            9         1       3   \n",
       "9           10         1       2   \n",
       "\n",
       "                                                Name     Sex   Age  SibSp  \\\n",
       "0                            Braund, Mr. Owen Harris    male  22.0      1   \n",
       "1  Cumings, Mrs. John Bradley (Florence Briggs Th...  female  38.0      1   \n",
       "2                             Heikkinen, Miss. Laina  female  26.0      0   \n",
       "3       Futrelle, Mrs. Jacques Heath (Lily May Peel)  female  35.0      1   \n",
       "4                           Allen, Mr. William Henry    male  35.0      0   \n",
       "5                                   Moran, Mr. James    male   NaN      0   \n",
       "6                            McCarthy, Mr. Timothy J    male  54.0      0   \n",
       "7                     Palsson, Master. Gosta Leonard    male   2.0      3   \n",
       "8  Johnson, Mrs. Oscar W (Elisabeth Vilhelmina Berg)  female  27.0      0   \n",
       "9                Nasser, Mrs. Nicholas (Adele Achem)  female  14.0      1   \n",
       "\n",
       "   Parch            Ticket     Fare Cabin Embarked  \n",
       "0      0         A/5 21171   7.2500   NaN        S  \n",
       "1      0          PC 17599  71.2833   C85        C  \n",
       "2      0  STON/O2. 3101282   7.9250   NaN        S  \n",
       "3      0            113803  53.1000  C123        S  \n",
       "4      0            373450   8.0500   NaN        S  \n",
       "5      0            330877   8.4583   NaN        Q  \n",
       "6      0             17463  51.8625   E46        S  \n",
       "7      1            349909  21.0750   NaN        S  \n",
       "8      2            347742  11.1333   NaN        S  \n",
       "9      0            237736  30.0708   NaN        C  "
      ]
     },
     "execution_count": 2,
     "metadata": {},
     "output_type": "execute_result"
    }
   ],
   "source": [
    "titanic_df.head(n=10) # Looking at first few rows of dataset"
   ]
  },
  {
   "cell_type": "code",
   "execution_count": 3,
   "metadata": {},
   "outputs": [
    {
     "data": {
      "text/plain": [
       "PassengerId      int64\n",
       "Survived         int64\n",
       "Pclass           int64\n",
       "Name            object\n",
       "Sex             object\n",
       "Age            float64\n",
       "SibSp            int64\n",
       "Parch            int64\n",
       "Ticket          object\n",
       "Fare           float64\n",
       "Cabin           object\n",
       "Embarked        object\n",
       "dtype: object"
      ]
     },
     "execution_count": 3,
     "metadata": {},
     "output_type": "execute_result"
    }
   ],
   "source": [
    "# Looking at the the datatypes\n",
    "titanic_df.dtypes\n"
   ]
  },
  {
   "cell_type": "markdown",
   "metadata": {
    "collapsed": true
   },
   "source": [
    "\n",
    "Looking at the variables and the posed questions, we do not need the following variables:\n",
    "- PassengerId      \n",
    "- Name            \n",
    "- Ticket          \n",
    "- Fare           \n",
    "- Cabin           \n",
    "- Embarked \n",
    "- SibSp\n",
    "- Parch\n",
    "\n",
    "So, we would remove the unwanted variables to save the processing time. \n"
   ]
  },
  {
   "cell_type": "code",
   "execution_count": 4,
   "metadata": {
    "collapsed": true
   },
   "outputs": [],
   "source": [
    "#Drop unwanted variables\n",
    "#titanic_new = titanic_df.drop(['PassengerId', 'Name', 'Ticket', 'Fare', 'Cabin','Embarked', 'SibSp', 'Parch'], axis = 1) \n",
    "titanic_new = titanic_df.loc[:, ['Survived', 'Pclass', 'Sex', 'Age']]\n"
   ]
  },
  {
   "cell_type": "code",
   "execution_count": 5,
   "metadata": {},
   "outputs": [
    {
     "data": {
      "text/html": [
       "<div>\n",
       "<table border=\"1\" class=\"dataframe\">\n",
       "  <thead>\n",
       "    <tr style=\"text-align: right;\">\n",
       "      <th></th>\n",
       "      <th>Survived</th>\n",
       "      <th>Pclass</th>\n",
       "      <th>Sex</th>\n",
       "      <th>Age</th>\n",
       "    </tr>\n",
       "  </thead>\n",
       "  <tbody>\n",
       "    <tr>\n",
       "      <th>0</th>\n",
       "      <td>0</td>\n",
       "      <td>3</td>\n",
       "      <td>male</td>\n",
       "      <td>22.0</td>\n",
       "    </tr>\n",
       "    <tr>\n",
       "      <th>1</th>\n",
       "      <td>1</td>\n",
       "      <td>1</td>\n",
       "      <td>female</td>\n",
       "      <td>38.0</td>\n",
       "    </tr>\n",
       "    <tr>\n",
       "      <th>2</th>\n",
       "      <td>1</td>\n",
       "      <td>3</td>\n",
       "      <td>female</td>\n",
       "      <td>26.0</td>\n",
       "    </tr>\n",
       "    <tr>\n",
       "      <th>3</th>\n",
       "      <td>1</td>\n",
       "      <td>1</td>\n",
       "      <td>female</td>\n",
       "      <td>35.0</td>\n",
       "    </tr>\n",
       "    <tr>\n",
       "      <th>4</th>\n",
       "      <td>0</td>\n",
       "      <td>3</td>\n",
       "      <td>male</td>\n",
       "      <td>35.0</td>\n",
       "    </tr>\n",
       "    <tr>\n",
       "      <th>5</th>\n",
       "      <td>0</td>\n",
       "      <td>3</td>\n",
       "      <td>male</td>\n",
       "      <td>NaN</td>\n",
       "    </tr>\n",
       "    <tr>\n",
       "      <th>6</th>\n",
       "      <td>0</td>\n",
       "      <td>1</td>\n",
       "      <td>male</td>\n",
       "      <td>54.0</td>\n",
       "    </tr>\n",
       "    <tr>\n",
       "      <th>7</th>\n",
       "      <td>0</td>\n",
       "      <td>3</td>\n",
       "      <td>male</td>\n",
       "      <td>2.0</td>\n",
       "    </tr>\n",
       "    <tr>\n",
       "      <th>8</th>\n",
       "      <td>1</td>\n",
       "      <td>3</td>\n",
       "      <td>female</td>\n",
       "      <td>27.0</td>\n",
       "    </tr>\n",
       "    <tr>\n",
       "      <th>9</th>\n",
       "      <td>1</td>\n",
       "      <td>2</td>\n",
       "      <td>female</td>\n",
       "      <td>14.0</td>\n",
       "    </tr>\n",
       "  </tbody>\n",
       "</table>\n",
       "</div>"
      ],
      "text/plain": [
       "   Survived  Pclass     Sex   Age\n",
       "0         0       3    male  22.0\n",
       "1         1       1  female  38.0\n",
       "2         1       3  female  26.0\n",
       "3         1       1  female  35.0\n",
       "4         0       3    male  35.0\n",
       "5         0       3    male   NaN\n",
       "6         0       1    male  54.0\n",
       "7         0       3    male   2.0\n",
       "8         1       3  female  27.0\n",
       "9         1       2  female  14.0"
      ]
     },
     "execution_count": 5,
     "metadata": {},
     "output_type": "execute_result"
    }
   ],
   "source": [
    "#know your data - viewing first few records of the dataset   \n",
    "titanic_new.head(n=10) \n"
   ]
  },
  {
   "cell_type": "code",
   "execution_count": 6,
   "metadata": {},
   "outputs": [
    {
     "data": {
      "text/html": [
       "<div>\n",
       "<table border=\"1\" class=\"dataframe\">\n",
       "  <thead>\n",
       "    <tr style=\"text-align: right;\">\n",
       "      <th></th>\n",
       "      <th>Survived</th>\n",
       "      <th>Pclass</th>\n",
       "      <th>Sex</th>\n",
       "      <th>Age</th>\n",
       "    </tr>\n",
       "  </thead>\n",
       "  <tbody>\n",
       "    <tr>\n",
       "      <th>881</th>\n",
       "      <td>0</td>\n",
       "      <td>3</td>\n",
       "      <td>male</td>\n",
       "      <td>33.0</td>\n",
       "    </tr>\n",
       "    <tr>\n",
       "      <th>882</th>\n",
       "      <td>0</td>\n",
       "      <td>3</td>\n",
       "      <td>female</td>\n",
       "      <td>22.0</td>\n",
       "    </tr>\n",
       "    <tr>\n",
       "      <th>883</th>\n",
       "      <td>0</td>\n",
       "      <td>2</td>\n",
       "      <td>male</td>\n",
       "      <td>28.0</td>\n",
       "    </tr>\n",
       "    <tr>\n",
       "      <th>884</th>\n",
       "      <td>0</td>\n",
       "      <td>3</td>\n",
       "      <td>male</td>\n",
       "      <td>25.0</td>\n",
       "    </tr>\n",
       "    <tr>\n",
       "      <th>885</th>\n",
       "      <td>0</td>\n",
       "      <td>3</td>\n",
       "      <td>female</td>\n",
       "      <td>39.0</td>\n",
       "    </tr>\n",
       "    <tr>\n",
       "      <th>886</th>\n",
       "      <td>0</td>\n",
       "      <td>2</td>\n",
       "      <td>male</td>\n",
       "      <td>27.0</td>\n",
       "    </tr>\n",
       "    <tr>\n",
       "      <th>887</th>\n",
       "      <td>1</td>\n",
       "      <td>1</td>\n",
       "      <td>female</td>\n",
       "      <td>19.0</td>\n",
       "    </tr>\n",
       "    <tr>\n",
       "      <th>888</th>\n",
       "      <td>0</td>\n",
       "      <td>3</td>\n",
       "      <td>female</td>\n",
       "      <td>NaN</td>\n",
       "    </tr>\n",
       "    <tr>\n",
       "      <th>889</th>\n",
       "      <td>1</td>\n",
       "      <td>1</td>\n",
       "      <td>male</td>\n",
       "      <td>26.0</td>\n",
       "    </tr>\n",
       "    <tr>\n",
       "      <th>890</th>\n",
       "      <td>0</td>\n",
       "      <td>3</td>\n",
       "      <td>male</td>\n",
       "      <td>32.0</td>\n",
       "    </tr>\n",
       "  </tbody>\n",
       "</table>\n",
       "</div>"
      ],
      "text/plain": [
       "     Survived  Pclass     Sex   Age\n",
       "881         0       3    male  33.0\n",
       "882         0       3  female  22.0\n",
       "883         0       2    male  28.0\n",
       "884         0       3    male  25.0\n",
       "885         0       3  female  39.0\n",
       "886         0       2    male  27.0\n",
       "887         1       1  female  19.0\n",
       "888         0       3  female   NaN\n",
       "889         1       1    male  26.0\n",
       "890         0       3    male  32.0"
      ]
     },
     "execution_count": 6,
     "metadata": {},
     "output_type": "execute_result"
    }
   ],
   "source": [
    "titanic_new.tail(n=10) #know your data - viewing last few records of the dataset\n"
   ]
  },
  {
   "cell_type": "markdown",
   "metadata": {},
   "source": [
    "We can see that there are some Nan values for the variable Age. Lets find out Nan values (if any) for each of our variables.\n"
   ]
  },
  {
   "cell_type": "code",
   "execution_count": 7,
   "metadata": {},
   "outputs": [
    {
     "data": {
      "text/plain": [
       "Survived      0\n",
       "Pclass        0\n",
       "Sex           0\n",
       "Age         177\n",
       "dtype: int64"
      ]
     },
     "execution_count": 7,
     "metadata": {},
     "output_type": "execute_result"
    }
   ],
   "source": [
    "# Finding number of missing values for each variable\n",
    "titanic_new.isnull().sum()"
   ]
  },
  {
   "cell_type": "raw",
   "metadata": {},
   "source": [
    "The variable Age has 177 missing values out of 891. It is almost 20% of the total observations. We will need to account for this while looking at the descriptive statistics like mean age, etc. \n",
    "Let's explore these missing values of age a bit more.\n"
   ]
  },
  {
   "cell_type": "code",
   "execution_count": 8,
   "metadata": {},
   "outputs": [
    {
     "data": {
      "text/plain": [
       "Sex\n",
       "female     53\n",
       "male      124\n",
       "dtype: int64"
      ]
     },
     "execution_count": 8,
     "metadata": {},
     "output_type": "execute_result"
    }
   ],
   "source": [
    "titanic_Nan = titanic_new[titanic_new.isnull().any(axis = 1)] # subsetting the data containing only Nan values for Age\n",
    "\n",
    "titanic_Nan.groupby('Sex').size() # Looking at missing values for males and females seperately \n",
    "\n"
   ]
  },
  {
   "cell_type": "markdown",
   "metadata": {},
   "source": [
    "This shows age is missing for 53 females and 124 males in our dataset. We can keep a note of this for futher analysis based upon sex and age.\n"
   ]
  },
  {
   "cell_type": "markdown",
   "metadata": {},
   "source": [
    "** Question 1: Was age a factor in determining the chances of survival? **\n"
   ]
  },
  {
   "cell_type": "code",
   "execution_count": 9,
   "metadata": {},
   "outputs": [
    {
     "data": {
      "text/html": [
       "<div>\n",
       "<table border=\"1\" class=\"dataframe\">\n",
       "  <thead>\n",
       "    <tr style=\"text-align: right;\">\n",
       "      <th></th>\n",
       "      <th>Survived</th>\n",
       "      <th>Pclass</th>\n",
       "      <th>Age</th>\n",
       "    </tr>\n",
       "  </thead>\n",
       "  <tbody>\n",
       "    <tr>\n",
       "      <th>count</th>\n",
       "      <td>891.000000</td>\n",
       "      <td>891.000000</td>\n",
       "      <td>714.000000</td>\n",
       "    </tr>\n",
       "    <tr>\n",
       "      <th>mean</th>\n",
       "      <td>0.383838</td>\n",
       "      <td>2.308642</td>\n",
       "      <td>29.699118</td>\n",
       "    </tr>\n",
       "    <tr>\n",
       "      <th>std</th>\n",
       "      <td>0.486592</td>\n",
       "      <td>0.836071</td>\n",
       "      <td>14.526497</td>\n",
       "    </tr>\n",
       "    <tr>\n",
       "      <th>min</th>\n",
       "      <td>0.000000</td>\n",
       "      <td>1.000000</td>\n",
       "      <td>0.420000</td>\n",
       "    </tr>\n",
       "    <tr>\n",
       "      <th>25%</th>\n",
       "      <td>0.000000</td>\n",
       "      <td>2.000000</td>\n",
       "      <td>20.125000</td>\n",
       "    </tr>\n",
       "    <tr>\n",
       "      <th>50%</th>\n",
       "      <td>0.000000</td>\n",
       "      <td>3.000000</td>\n",
       "      <td>28.000000</td>\n",
       "    </tr>\n",
       "    <tr>\n",
       "      <th>75%</th>\n",
       "      <td>1.000000</td>\n",
       "      <td>3.000000</td>\n",
       "      <td>38.000000</td>\n",
       "    </tr>\n",
       "    <tr>\n",
       "      <th>max</th>\n",
       "      <td>1.000000</td>\n",
       "      <td>3.000000</td>\n",
       "      <td>80.000000</td>\n",
       "    </tr>\n",
       "  </tbody>\n",
       "</table>\n",
       "</div>"
      ],
      "text/plain": [
       "         Survived      Pclass         Age\n",
       "count  891.000000  891.000000  714.000000\n",
       "mean     0.383838    2.308642   29.699118\n",
       "std      0.486592    0.836071   14.526497\n",
       "min      0.000000    1.000000    0.420000\n",
       "25%      0.000000    2.000000   20.125000\n",
       "50%      0.000000    3.000000   28.000000\n",
       "75%      1.000000    3.000000   38.000000\n",
       "max      1.000000    3.000000   80.000000"
      ]
     },
     "execution_count": 9,
     "metadata": {},
     "output_type": "execute_result"
    }
   ],
   "source": [
    "titanic_new.describe() #looking at some basic statistics of for all numeric variables in our dataset"
   ]
  },
  {
   "cell_type": "markdown",
   "metadata": {
    "collapsed": true
   },
   "source": [
    "A few things that we note here from above statistics are as follows:\n",
    "- Our count for Age shows that we have Age for 714 passangers out of 891 (same as we saw earlier)\n",
    "- Mean age is 29.7 and 75% of pasengers are below the age of 38.\n",
    "- Minimum age is 0.42 and maximum age is 80.\n",
    "\n",
    "Now lets look at the statistics for Age for survivors and non-survivors seperately. However, we would need to impute the missing values first. Keeping in mind that missing values will largely affect the means and count if we replace them with mean/median, so we would rather drop them and then compare the survivor and non-survivor group seperately.   \n"
   ]
  },
  {
   "cell_type": "code",
   "execution_count": 10,
   "metadata": {},
   "outputs": [
    {
     "data": {
      "text/plain": [
       "Survived       \n",
       "0         count    424.000000\n",
       "          mean      30.626179\n",
       "          std       14.172110\n",
       "          min        1.000000\n",
       "          25%       21.000000\n",
       "          50%       28.000000\n",
       "          75%       39.000000\n",
       "          max       74.000000\n",
       "1         count    290.000000\n",
       "          mean      28.343690\n",
       "          std       14.950952\n",
       "          min        0.420000\n",
       "          25%       19.000000\n",
       "          50%       28.000000\n",
       "          75%       36.000000\n",
       "          max       80.000000\n",
       "Name: Age, dtype: float64"
      ]
     },
     "execution_count": 10,
     "metadata": {},
     "output_type": "execute_result"
    }
   ],
   "source": [
    "titanic_with_NAN = titanic_new.copy()\n",
    "titanic_new = titanic_new.dropna() # Drop all rows with missing values for age.\n",
    "\n",
    "group_by_survival_age = titanic_new.groupby(['Survived'])['Age'].describe() # Statistics for survivors and non-sorvivors \n",
    "group_by_survival_age\n",
    "\n"
   ]
  },
  {
   "cell_type": "markdown",
   "metadata": {},
   "source": [
    "The mean age for suvivors and non-survivors is very close. With the standard deviation also very close(14.17 and 14.95), it implies that the mean for one group is well within one standard deviation from the other. So the difference in mean ages is not statistically significant.  \n",
    "\n",
    "Let's plot histograms for each group and analyse the distribution. "
   ]
  },
  {
   "cell_type": "code",
   "execution_count": 11,
   "metadata": {},
   "outputs": [
    {
     "data": {
      "text/plain": [
       "<matplotlib.text.Text at 0xbc1a4a8>"
      ]
     },
     "execution_count": 11,
     "metadata": {},
     "output_type": "execute_result"
    },
    {
     "data": {
      "image/png": "[encoded data removed]",
      "text/plain": [
       "<matplotlib.figure.Figure at 0xbc1a7f0>"
      ]
     },
     "metadata": {},
     "output_type": "display_data"
    }
   ],
   "source": [
    "titanic_new['Age'].hist(by = titanic_new['Survived'], bins = 80, sharey= True, sharex = True)\n",
    "pl.suptitle('Age: Non-Survivors vs. Survivors')\n"
   ]
  },
  {
   "cell_type": "markdown",
   "metadata": {},
   "source": [
    "Analyzing the the histograms of survivors and non-survivors: \n",
    "- There are more number of survivals in the age group 1-10 as compared to other ages. But a similar pattern can be seen for non-survivals ages 1-10 as well. So the survival rate for children doesn't seem to be significantly different from other ages. \n",
    "- There's a significant peak in the first bin for Survivors. It seems that there are a lot of infants amongst the survivors. \n",
    "- No other significant patterns for the rest of the ages can be observed. \n",
    "So, Lets explore the infant survival rate further."
   ]
  },
  {
   "cell_type": "code",
   "execution_count": 12,
   "metadata": {},
   "outputs": [
    {
     "data": {
      "text/html": [
       "<div>\n",
       "<table border=\"1\" class=\"dataframe\">\n",
       "  <thead>\n",
       "    <tr style=\"text-align: right;\">\n",
       "      <th></th>\n",
       "      <th>Survived</th>\n",
       "      <th>Pclass</th>\n",
       "      <th>Sex</th>\n",
       "      <th>Age</th>\n",
       "    </tr>\n",
       "  </thead>\n",
       "  <tbody>\n",
       "    <tr>\n",
       "      <th>78</th>\n",
       "      <td>1</td>\n",
       "      <td>2</td>\n",
       "      <td>male</td>\n",
       "      <td>0.83</td>\n",
       "    </tr>\n",
       "    <tr>\n",
       "      <th>305</th>\n",
       "      <td>1</td>\n",
       "      <td>1</td>\n",
       "      <td>male</td>\n",
       "      <td>0.92</td>\n",
       "    </tr>\n",
       "    <tr>\n",
       "      <th>469</th>\n",
       "      <td>1</td>\n",
       "      <td>3</td>\n",
       "      <td>female</td>\n",
       "      <td>0.75</td>\n",
       "    </tr>\n",
       "    <tr>\n",
       "      <th>644</th>\n",
       "      <td>1</td>\n",
       "      <td>3</td>\n",
       "      <td>female</td>\n",
       "      <td>0.75</td>\n",
       "    </tr>\n",
       "    <tr>\n",
       "      <th>755</th>\n",
       "      <td>1</td>\n",
       "      <td>2</td>\n",
       "      <td>male</td>\n",
       "      <td>0.67</td>\n",
       "    </tr>\n",
       "    <tr>\n",
       "      <th>803</th>\n",
       "      <td>1</td>\n",
       "      <td>3</td>\n",
       "      <td>male</td>\n",
       "      <td>0.42</td>\n",
       "    </tr>\n",
       "    <tr>\n",
       "      <th>831</th>\n",
       "      <td>1</td>\n",
       "      <td>2</td>\n",
       "      <td>male</td>\n",
       "      <td>0.83</td>\n",
       "    </tr>\n",
       "  </tbody>\n",
       "</table>\n",
       "</div>"
      ],
      "text/plain": [
       "     Survived  Pclass     Sex   Age\n",
       "78          1       2    male  0.83\n",
       "305         1       1    male  0.92\n",
       "469         1       3  female  0.75\n",
       "644         1       3  female  0.75\n",
       "755         1       2    male  0.67\n",
       "803         1       3    male  0.42\n",
       "831         1       2    male  0.83"
      ]
     },
     "execution_count": 12,
     "metadata": {},
     "output_type": "execute_result"
    }
   ],
   "source": [
    "# Lets explore the infant survival rates.\n",
    "\n",
    "survived_below_1 = titanic_new[(titanic_new['Age'] <1)]\n",
    "survived_below_1\n"
   ]
  },
  {
   "cell_type": "markdown",
   "metadata": {},
   "source": [
    "We can see a very interesting point here:\n",
    "**All the children below the age of 1 SURVIVED!**\n",
    "\n",
    "Hence, from our descriptive statistics and the histograms above, we can infer that \n",
    "1. Age was not a factor in determining the chances of survival.\n",
    "2. All the infants below the age of 1 survived. This leads us to think that maybe infants or children were given preference while boarding the lifeboats.  \n"
   ]
  },
  {
   "cell_type": "markdown",
   "metadata": {},
   "source": [
    "**Question 2: Did women had a better survival rate than men?**\n"
   ]
  },
  {
   "cell_type": "code",
   "execution_count": 13,
   "metadata": {},
   "outputs": [
    {
     "data": {
      "text/html": [
       "<div>\n",
       "<table border=\"1\" class=\"dataframe\">\n",
       "  <thead>\n",
       "    <tr style=\"text-align: right;\">\n",
       "      <th></th>\n",
       "      <th>Female</th>\n",
       "      <th>Male</th>\n",
       "    </tr>\n",
       "  </thead>\n",
       "  <tbody>\n",
       "    <tr>\n",
       "      <th>Died</th>\n",
       "      <td>64</td>\n",
       "      <td>360</td>\n",
       "    </tr>\n",
       "    <tr>\n",
       "      <th>Survived</th>\n",
       "      <td>197</td>\n",
       "      <td>93</td>\n",
       "    </tr>\n",
       "  </tbody>\n",
       "</table>\n",
       "</div>"
      ],
      "text/plain": [
       "          Female  Male\n",
       "Died          64   360\n",
       "Survived     197    93"
      ]
     },
     "execution_count": 13,
     "metadata": {},
     "output_type": "execute_result"
    }
   ],
   "source": [
    "\n",
    "survival_sex = pd.crosstab(titanic_new[\"Survived\"], \n",
    "                           titanic_new[\"Sex\"])\n",
    "\n",
    "survival_sex.columns = [\"Female\", \"Male\"]\n",
    "\n",
    "survival_sex.index = [\"Died\", \"Survived\"]\n",
    "survival_sex\n"
   ]
  },
  {
   "cell_type": "markdown",
   "metadata": {},
   "source": [
    "From this table, percentage of women who survived is 75% and percentage of men survived is 21%.\n",
    "We can clearly see that females survival rate was very high than the males. \n",
    "Lets validate it further statistically and test if survival rate was dependent upon gender or not.  \n",
    "Our dependent variable is 'Survived' and the independent variable is 'Sex'. Since both are categorical, we would use chi-square test to test the relationship between both the variables. \n",
    "\n",
    "-  Null Hypotheiss( $H_0$) : Sex and Survived are independent.\n",
    "-  Alternate Hypothesis( $H_A$): $H_0$ is false.\n",
    "\n",
    "We will use $\\alpha$ = 0.05, to test the significance. \n",
    "\n"
   ]
  },
  {
   "cell_type": "code",
   "execution_count": 14,
   "metadata": {},
   "outputs": [
    {
     "name": "stdout",
     "output_type": "stream",
     "text": [
      "[['Chi-Square Test Statistic', 205.02582752855909], ['P-Value', 1.6716678441395054e-46], ['Degrees of Freedom', 1L], ['Expected Values', array([[ 154.99159664,  269.00840336],\n",
      "       [ 106.00840336,  183.99159664]])]]\n",
      "P-Value is than 0.05. So, we Reject the Null Hypothesis\n"
     ]
    }
   ],
   "source": [
    "\n",
    "# Conducting the chi-square test\n",
    "\n",
    "chi2, p, dof, expected = stats.chi2_contingency(survival_sex.values)\n",
    "\n",
    "results = [\n",
    "    ['Chi-Square Test Statistic',chi2],\n",
    "    ['P-Value', p],\n",
    "    ['Degrees of Freedom', dof],\n",
    "    ['Expected Values', expected]\n",
    "]\n",
    "print results\n",
    "if p < 0.05:\n",
    "    print \"P-Value is than 0.05. So, we Reject the Null Hypothesis\"\n",
    "else:\n",
    "    print \"Fail to reject Null Hypothesis\"\n"
   ]
  },
  {
   "cell_type": "markdown",
   "metadata": {},
   "source": [
    "P-value for the chi-square test is less than 0.05, hence we can reject the null hypothesis that sex and survival rate are independent of each other. "
   ]
  },
  {
   "cell_type": "code",
   "execution_count": 15,
   "metadata": {},
   "outputs": [
    {
     "data": {
      "text/plain": [
       "<matplotlib.text.Text at 0xc0abf98>"
      ]
     },
     "execution_count": 15,
     "metadata": {},
     "output_type": "execute_result"
    },
    {
     "data": {
      "image/png": "[encoded data removed]",
      "text/plain": [
       "<matplotlib.figure.Figure at 0xc558940>"
      ]
     },
     "metadata": {},
     "output_type": "display_data"
    }
   ],
   "source": [
    "bar_survival_sex = survival_sex.plot(kind='bar', stacked = True, title = \"Female vs Male: Survivors/Non-Survivors\")\n",
    "bar_survival_sex.set_ylabel(\"Number of Passengers\")"
   ]
  },
  {
   "cell_type": "markdown",
   "metadata": {},
   "source": [
    "From our findings in Question 1, we found out that all infants below the age of 1 years survived. And in question 2, we found that females survival rate is way higher than that of males. \n",
    "So it makes us think that females and children were given preference to board the life boats. Lets explore this further.\n",
    "\n",
    "**Question 3: How was children's survival rate as compared to men or women?**\n",
    "To explore this question, we will need to compute the status os each passenger. We will create a new column 'Status' which will contain the following information. If the passenger is below 16, status will be 'child' else if above 16, it will be either male or female(same as sex).\n",
    "\n",
    "**Assumption**: In order to compute the status of each passenger, we will assume a cut off age for children. We are assuming the age of 16 years as a cut off for age for this analysis. We based our assumption on the fact that in 1900s, the \n"
   ]
  },
  {
   "cell_type": "code",
   "execution_count": 16,
   "metadata": {},
   "outputs": [
    {
     "data": {
      "text/html": [
       "<div>\n",
       "<table border=\"1\" class=\"dataframe\">\n",
       "  <thead>\n",
       "    <tr style=\"text-align: right;\">\n",
       "      <th></th>\n",
       "      <th>Survived</th>\n",
       "      <th>Pclass</th>\n",
       "      <th>Sex</th>\n",
       "      <th>Age</th>\n",
       "      <th>Status</th>\n",
       "    </tr>\n",
       "  </thead>\n",
       "  <tbody>\n",
       "    <tr>\n",
       "      <th>0</th>\n",
       "      <td>0</td>\n",
       "      <td>3</td>\n",
       "      <td>male</td>\n",
       "      <td>22.0</td>\n",
       "      <td>male</td>\n",
       "    </tr>\n",
       "    <tr>\n",
       "      <th>1</th>\n",
       "      <td>1</td>\n",
       "      <td>1</td>\n",
       "      <td>female</td>\n",
       "      <td>38.0</td>\n",
       "      <td>female</td>\n",
       "    </tr>\n",
       "    <tr>\n",
       "      <th>2</th>\n",
       "      <td>1</td>\n",
       "      <td>3</td>\n",
       "      <td>female</td>\n",
       "      <td>26.0</td>\n",
       "      <td>female</td>\n",
       "    </tr>\n",
       "    <tr>\n",
       "      <th>3</th>\n",
       "      <td>1</td>\n",
       "      <td>1</td>\n",
       "      <td>female</td>\n",
       "      <td>35.0</td>\n",
       "      <td>female</td>\n",
       "    </tr>\n",
       "    <tr>\n",
       "      <th>4</th>\n",
       "      <td>0</td>\n",
       "      <td>3</td>\n",
       "      <td>male</td>\n",
       "      <td>35.0</td>\n",
       "      <td>male</td>\n",
       "    </tr>\n",
       "    <tr>\n",
       "      <th>6</th>\n",
       "      <td>0</td>\n",
       "      <td>1</td>\n",
       "      <td>male</td>\n",
       "      <td>54.0</td>\n",
       "      <td>male</td>\n",
       "    </tr>\n",
       "    <tr>\n",
       "      <th>7</th>\n",
       "      <td>0</td>\n",
       "      <td>3</td>\n",
       "      <td>male</td>\n",
       "      <td>2.0</td>\n",
       "      <td>child</td>\n",
       "    </tr>\n",
       "    <tr>\n",
       "      <th>8</th>\n",
       "      <td>1</td>\n",
       "      <td>3</td>\n",
       "      <td>female</td>\n",
       "      <td>27.0</td>\n",
       "      <td>female</td>\n",
       "    </tr>\n",
       "    <tr>\n",
       "      <th>9</th>\n",
       "      <td>1</td>\n",
       "      <td>2</td>\n",
       "      <td>female</td>\n",
       "      <td>14.0</td>\n",
       "      <td>child</td>\n",
       "    </tr>\n",
       "    <tr>\n",
       "      <th>10</th>\n",
       "      <td>1</td>\n",
       "      <td>3</td>\n",
       "      <td>female</td>\n",
       "      <td>4.0</td>\n",
       "      <td>child</td>\n",
       "    </tr>\n",
       "  </tbody>\n",
       "</table>\n",
       "</div>"
      ],
      "text/plain": [
       "    Survived  Pclass     Sex   Age  Status\n",
       "0          0       3    male  22.0    male\n",
       "1          1       1  female  38.0  female\n",
       "2          1       3  female  26.0  female\n",
       "3          1       1  female  35.0  female\n",
       "4          0       3    male  35.0    male\n",
       "6          0       1    male  54.0    male\n",
       "7          0       3    male   2.0   child\n",
       "8          1       3  female  27.0  female\n",
       "9          1       2  female  14.0   child\n",
       "10         1       3  female   4.0   child"
      ]
     },
     "execution_count": 16,
     "metadata": {},
     "output_type": "execute_result"
    }
   ],
   "source": [
    "\n",
    "# Lets split the variable 'Sex' into three categories Male, Female and Child. \n",
    "\n",
    "#findStatus - this function takes in packages argument with sex and age variables. It compares the age with numeric value 16 and return the status for each perosn. \n",
    "#If age is less than 16, status is set to child, else it remains as Sex(male/female).\n",
    "\n",
    "def findStatus(passenger):\n",
    "    age, sex = passenger\n",
    "    \n",
    "    if age < 16:\n",
    "        return 'child'\n",
    "    else:\n",
    "        return sex\n",
    "\n",
    "#Creating a new column 'Status' to contain if the passenger is a child, male or female. \n",
    "titanic_new['Status'] = titanic_new[['Age', 'Sex']].apply(findStatus, axis=1) \n",
    "\n",
    "titanic_new.head(n= 10)"
   ]
  },
  {
   "cell_type": "code",
   "execution_count": 17,
   "metadata": {},
   "outputs": [
    {
     "data": {
      "text/html": [
       "<div>\n",
       "<table border=\"1\" class=\"dataframe\">\n",
       "  <thead>\n",
       "    <tr style=\"text-align: right;\">\n",
       "      <th></th>\n",
       "      <th>Died</th>\n",
       "      <th>Survived</th>\n",
       "    </tr>\n",
       "  </thead>\n",
       "  <tbody>\n",
       "    <tr>\n",
       "      <th>Children</th>\n",
       "      <td>0.41</td>\n",
       "      <td>0.59</td>\n",
       "    </tr>\n",
       "    <tr>\n",
       "      <th>Female</th>\n",
       "      <td>0.22</td>\n",
       "      <td>0.78</td>\n",
       "    </tr>\n",
       "    <tr>\n",
       "      <th>Male</th>\n",
       "      <td>0.83</td>\n",
       "      <td>0.17</td>\n",
       "    </tr>\n",
       "  </tbody>\n",
       "</table>\n",
       "</div>"
      ],
      "text/plain": [
       "          Died  Survived\n",
       "Children  0.41      0.59\n",
       "Female    0.22      0.78\n",
       "Male      0.83      0.17"
      ]
     },
     "execution_count": 17,
     "metadata": {},
     "output_type": "execute_result"
    }
   ],
   "source": [
    "# Lets look at survival probability for males, females and children \n",
    "\n",
    "survived_status = pd.crosstab(titanic_new[\"Status\"], titanic_new[\"Survived\"]).apply(lambda r: ((r/r.sum())).round(2), axis=1)\n",
    "\n",
    "survived_status.index = [\"Children\", \"Female\", \"Male\"]\n",
    "\n",
    "survived_status.columns = [\"Died\", \"Survived\"]\n",
    "\n",
    "survived_status\n",
    "\n",
    "\n"
   ]
  },
  {
   "cell_type": "code",
   "execution_count": 18,
   "metadata": {},
   "outputs": [
    {
     "data": {
      "text/plain": [
       "<matplotlib.text.Text at 0xc9f6668>"
      ]
     },
     "execution_count": 18,
     "metadata": {},
     "output_type": "execute_result"
    },
    {
     "data": {
      "text/plain": [
       "<matplotlib.figure.Figure at 0xc0032e8>"
      ]
     },
     "metadata": {},
     "output_type": "display_data"
    },
    {
     "data": {
      "image/png": "[encoded data removed]",
      "text/plain": [
       "<matplotlib.figure.Figure at 0xc730550>"
      ]
     },
     "metadata": {},
     "output_type": "display_data"
    }
   ],
   "source": [
    "# Plotting bar charts for Survival status grouped by Status\n",
    "\n",
    "fig = plt.figure()\n",
    "g = survived_status.plot(kind='bar', stacked = True, title = \"Survival Probability - Children vs. Females vs. Males\")\n",
    "plt.legend(bbox_to_anchor=(1, 1), loc='upper left', ncol=1)\n",
    "plt.ylabel('Survival Probability')\n"
   ]
  },
  {
   "cell_type": "markdown",
   "metadata": {
    "collapsed": true
   },
   "source": [
    "The above statistics, survival probabilities and barplots show that survival rate for women and children are more than that for men. \n",
    "This leads us to ponder that preference was given to women and children while boarding the lifeboats. However, if that was true, more children should have been saved. Currently, from our analysis, the percentage survival for children stands at 59% as compared to women's which is 78%. Hence, we cannot say for sure, if children and women were given preference to lifeboats. But, chidren and women did fairly well as compared to men in terms of survival rate."
   ]
  },
  {
   "cell_type": "markdown",
   "metadata": {
    "collapsed": true
   },
   "source": [
    "**Question 4: Was Socio-economic status or passenger class a factor in determining the survival rate?**\n",
    "\n",
    "Since we are not looking at the variable age anymore. We will use the complete dataset(titanic_with_NAN) including the rows that had missing values for age. "
   ]
  },
  {
   "cell_type": "code",
   "execution_count": 19,
   "metadata": {},
   "outputs": [
    {
     "data": {
      "text/plain": [
       "Pclass  Sex   \n",
       "1       female     94\n",
       "        male      122\n",
       "2       female     76\n",
       "        male      108\n",
       "3       female    144\n",
       "        male      347\n",
       "dtype: int64"
      ]
     },
     "execution_count": 19,
     "metadata": {},
     "output_type": "execute_result"
    }
   ],
   "source": [
    "#Looking at numbers for males and females seperately for each class \n",
    "group_class_sex = titanic_with_NAN.groupby(['Pclass', 'Sex']).size()\n",
    "group_class_sex"
   ]
  },
  {
   "cell_type": "code",
   "execution_count": 20,
   "metadata": {},
   "outputs": [
    {
     "data": {
      "text/plain": [
       "Pclass  Sex   \n",
       "1       female    43.52\n",
       "        male      56.48\n",
       "2       female    41.30\n",
       "        male      58.70\n",
       "3       female    29.33\n",
       "        male      70.67\n",
       "dtype: float64"
      ]
     },
     "execution_count": 20,
     "metadata": {},
     "output_type": "execute_result"
    }
   ],
   "source": [
    "# Looking at percentages\n",
    "group_class_sex.groupby(level=0).apply(lambda x:\n",
    "                                       (100 * x / float(x.sum())).round(2))"
   ]
  },
  {
   "cell_type": "markdown",
   "metadata": {
    "collapsed": true
   },
   "source": [
    "We can note a couple of important points in this data which might be useful in later analysis\n",
    "- First, maximum number of passengers travelled in Pclass 3\n",
    "- Second, male to female ratio in Pclass 3 is notably high. 71% of the passengers in Pclass 3 are males. "
   ]
  },
  {
   "cell_type": "code",
   "execution_count": 21,
   "metadata": {},
   "outputs": [
    {
     "name": "stdout",
     "output_type": "stream",
     "text": [
      "Pclass  Survived\n",
      "1       0            80\n",
      "        1           136\n",
      "2       0            97\n",
      "        1            87\n",
      "3       0           372\n",
      "        1           119\n",
      "dtype: int64\n"
     ]
    }
   ],
   "source": [
    "# Lets look at the numbers for Survived and non-suvived for each of the three classes. \n",
    "group_by_survival_Pclass = titanic_with_NAN.groupby(['Pclass', 'Survived']).size()\n",
    "print group_by_survival_Pclass\n"
   ]
  },
  {
   "cell_type": "code",
   "execution_count": 22,
   "metadata": {},
   "outputs": [
    {
     "data": {
      "text/plain": [
       "Pclass  Survived\n",
       "1       0           37.04\n",
       "        1           62.96\n",
       "2       0           52.72\n",
       "        1           47.28\n",
       "3       0           75.76\n",
       "        1           24.24\n",
       "dtype: float64"
      ]
     },
     "execution_count": 22,
     "metadata": {},
     "output_type": "execute_result"
    }
   ],
   "source": [
    "# By percentages\n",
    "group_by_survival_Pclass.groupby(level=0).apply(lambda x:\n",
    "                                       (100 * x / float(x.sum())).round(2))"
   ]
  },
  {
   "cell_type": "code",
   "execution_count": 23,
   "metadata": {},
   "outputs": [
    {
     "data": {
      "text/plain": [
       "<matplotlib.text.Text at 0xc9920b8>"
      ]
     },
     "execution_count": 23,
     "metadata": {},
     "output_type": "execute_result"
    },
    {
     "data": {
      "image/png": "[encoded data removed]",
      "text/plain": [
       "<matplotlib.figure.Figure at 0xc1cdb00>"
      ]
     },
     "metadata": {},
     "output_type": "display_data"
    }
   ],
   "source": [
    "# Looking at the factorplot for the above numbers\n",
    "sns.set_style(\"whitegrid\")\n",
    "s = sns.factorplot(x='Survived', col = 'Pclass', data = titanic_with_NAN, kind = 'count')\n",
    "\n",
    "s.set_axis_labels('Suvived', 'Number of Passengers').set_xticklabels(['False', 'True'])\n",
    "pl.suptitle('Survived or not: across all classes')\n"
   ]
  },
  {
   "cell_type": "markdown",
   "metadata": {
    "collapsed": true
   },
   "source": [
    "There are maximum number of deaths in the passeneger class 3. This can be attributed partly to the above noted point that maximum number of passengers were travelling in Pclass 3. So the maximum number of lives lost were also in Pclass 3. \n",
    "However, looking at the percentages, Pclass still had the worst scenario. 75% passengers died in Pclass 3 as compared to 37% and 52% in Pclass 1 and Pclass 3 respectively. Survival rate was best in Pclass-1 62.96%. \n",
    "\n",
    "Now lets explore the Pclass further combining it with the gender class. \n"
   ]
  },
  {
   "cell_type": "code",
   "execution_count": 24,
   "metadata": {},
   "outputs": [
    {
     "data": {
      "text/plain": [
       "Pclass  Survived  Sex   \n",
       "1       0         female      3\n",
       "                  male       77\n",
       "        1         female     91\n",
       "                  male       45\n",
       "2       0         female      6\n",
       "                  male       91\n",
       "        1         female     70\n",
       "                  male       17\n",
       "3       0         female     72\n",
       "                  male      300\n",
       "        1         female     72\n",
       "                  male       47\n",
       "dtype: int64"
      ]
     },
     "execution_count": 24,
     "metadata": {},
     "output_type": "execute_result"
    }
   ],
   "source": [
    "#Grouping by Pclass and Sex\n",
    "group_survived_class_sex = titanic_with_NAN.groupby(['Pclass','Survived','Sex']).size()\n",
    "group_survived_class_sex \n",
    "\n"
   ]
  },
  {
   "cell_type": "code",
   "execution_count": 25,
   "metadata": {},
   "outputs": [
    {
     "data": {
      "image/png": "[encoded data removed]",
      "text/plain": [
       "<matplotlib.figure.Figure at 0xc26b828>"
      ]
     },
     "metadata": {},
     "output_type": "display_data"
    }
   ],
   "source": [
    "# Visualizing the data for males and females survived or not across all classes\n",
    "sns.set_style(\"whitegrid\")\n",
    "plot_class = sns.factorplot('Survived', col='Pclass', hue='Sex', kind='count', data = titanic_with_NAN)\n",
    "\n",
    "# Fixing the labels\n",
    "(plot_class.set_axis_labels('Suvived', 'Num. of Passengers')\n",
    "    .set_xticklabels([\"False\", \"True\"])\n",
    "    .set_titles('{col_name}')\n",
    ")\n",
    "\n",
    "titles = ['Pclass-1', 'Pclass-2', 'Pclass-3']\n",
    "for ax, title in zip(plot_class.axes.flat, titles):\n",
    "    ax.set_title(title)\n",
    "    \n"
   ]
  },
  {
   "cell_type": "code",
   "execution_count": 26,
   "metadata": {},
   "outputs": [
    {
     "data": {
      "image/png": "[encoded data removed]",
      "text/plain": [
       "<matplotlib.figure.Figure at 0xd5cf6a0>"
      ]
     },
     "metadata": {},
     "output_type": "display_data"
    }
   ],
   "source": [
    "# Visualizing the data for males and females survived or not across all classes\n",
    "\n",
    "sns.set_style(\"whitegrid\")\n",
    "plot_class = sns.factorplot('Survived', col='Sex', hue='Pclass', kind='count', data = titanic_with_NAN)\n",
    "\n",
    "# Fixing the labels\n",
    "(plot_class.set_axis_labels('Suvived', 'Num. of Passengers')\n",
    "    .set_xticklabels([\"False\", \"True\"])\n",
    "    .set_titles('{col_name}')\n",
    ")\n",
    "\n",
    "titles = ['Male', 'Female']\n",
    "for ax, title in zip(plot_class.axes.flat, titles):\n",
    "    ax.set_title(title)\n",
    "    \n"
   ]
  },
  {
   "cell_type": "markdown",
   "metadata": {
    "collapsed": true
   },
   "source": [
    "As seen above, male lives lost in the passenger class 3 is substantially higher than in any other classes. P-class 1 had the best rate for women survival. "
   ]
  },
  {
   "cell_type": "markdown",
   "metadata": {
    "collapsed": true
   },
   "source": [
    "### Conclsion:\n",
    "Our complete analysis mainly covered three factors in this anlysis (Age, Sex, Pclass). \n",
    "> - Age: Doesn't play much role in determining the survival chances, except for ages below 1 years. \n",
    "- Sex: Women had better chances of survival than men. \n",
    "- In general, Women & children across all classes had higer survival rates than men.\n",
    "- Pclass: Pclass-1 had best while Pclass-3 has the worst survival rate. \n",
    "\n",
    "So we can say, that being a women in Pclass-1 seems to have the best chances of survival. However being a child or woman could not be considered as 100% survival chance.\n",
    "\n",
    "**Limitations**\n",
    "\n",
    "- The Age data was incomplete. Almost 20% of the age values were missing. We chose to remove the rows with missng values instead of imputing it with mean/median which would otherwise impact any descriptive statistics. So, we had even smaller sample size, which is less representative of the whole population that boarded Titanic. \n",
    "- Since we didnot have a clear age demarcation for children vs adults, we assumed the cutt off value for age of chidren as 16 years. This might have have skewed some of the numbers. \n",
    "\n"
   ]
  },
  {
   "cell_type": "markdown",
   "metadata": {
    "collapsed": true
   },
   "source": [
    "### References:\n",
    "\n",
    "- https://www.kaggle.com/c/titanic/data\n",
    "- http://seaborn.pydata.org/generated/seaborn.factorplot.html#seaborn.factorplot\n",
    "- https://stackoverflow.com/questions/19584029/plotting-histograms-from-grouped-data-in-a-pandas-dataframe\n",
    "- http://www.titanicfacts.net/titanic-victims.html\n"
   ]
  },
  {
   "cell_type": "code",
   "execution_count": null,
   "metadata": {
    "collapsed": true
   },
   "outputs": [],
   "source": []
  },
  {
   "cell_type": "code",
   "execution_count": null,
   "metadata": {
    "collapsed": true
   },
   "outputs": [],
   "source": []
  }
 ],
 "metadata": {
  "anaconda-cloud": {},
  "kernelspec": {
   "display_name": "Python [conda root]",
   "language": "python",
   "name": "conda-root-py"
  },
  "language_info": {
   "codemirror_mode": {
    "name": "ipython",
    "version": 2
   },
   "file_extension": ".py",
   "mimetype": "text/x-python",
   "name": "python",
   "nbconvert_exporter": "python",
   "pygments_lexer": "ipython2",
   "version": "2.7.12"
  }
 },
 "nbformat": 4,
 "nbformat_minor": 1
}
